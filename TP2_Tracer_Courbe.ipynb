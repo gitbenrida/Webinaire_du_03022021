{
 "cells": [
  {
   "cell_type": "markdown",
   "metadata": {},
   "source": [
    "# Algorithmes et tracés de courbes"
   ]
  },
  {
   "cell_type": "markdown",
   "metadata": {},
   "source": [
    "L’objectif de ce TP est de tracer la courbe représentative d’une fonction.\n",
    "\n",
    "On considère la fonction définie sur $[-5;5]$ par $f(x)=x^2-3x+1$"
   ]
  },
  {
   "cell_type": "markdown",
   "metadata": {},
   "source": [
    "Voici le code `Python` correspondant à la fonction  $f$ : "
   ]
  },
  {
   "cell_type": "code",
   "execution_count": null,
   "metadata": {},
   "outputs": [],
   "source": [
    "def f(x):\n",
    "    return(x**2-3*x+1)"
   ]
  },
  {
   "cell_type": "markdown",
   "metadata": {},
   "source": [
    "Pour exécuter cette fonction il suffit de taper son nom avec les valeurs des paramètres dans une cellule de code comme ci-dessous et cliquer sur le bouton **`Exécuter`** ou ***`Run`**.\n",
    "\n",
    "Exécuter les cellules ci-dessous et vérifier les résultats en calculant manuellement."
   ]
  },
  {
   "cell_type": "code",
   "execution_count": null,
   "metadata": {},
   "outputs": [],
   "source": [
    "f(1)"
   ]
  },
  {
   "cell_type": "code",
   "execution_count": null,
   "metadata": {},
   "outputs": [],
   "source": [
    "f(4)"
   ]
  },
  {
   "cell_type": "markdown",
   "metadata": {},
   "source": [
    "1) Première tentative de tracé de courbe :\n",
    "\n",
    "Voici le tableau de valeurs de la fonction $f$ entre $-5$ et $5$\n",
    "\n",
    "|x|-5|-4|-3|-2|-1|0|1|2|3|4|5|\n",
    "|-|-|-|-|-|-|-|-|-|-|-|-|\n",
    "|f(x)|41|29|19|11|5|1|-1|-1|1|5|11|\n",
    "\n",
    "> a) La fonction Tracer_Courbe() en  `Python`  ci-dessous calcule et palce 3 point de la courbe $C_f$\n",
    ">![OUPS ! j'ai oublié de joindre le fichier TP_Tracer_Courbe_image1.png](TP_Tracer_Courbe_image1.png)\n",
    ">\n",
    "> puis executer la cellule en cliquant sur le bouton **`Exécuter`** ou ***`Run`**.\n",
    ">\n",
    "> remarque : la fonction f est celle définie précédemment et en exécutant la cellule il  ne se passe rien, c'est normale Pour obtenir un résultat, il faut exécuter la fonction.\n",
    "  "
   ]
  },
  {
   "cell_type": "code",
   "execution_count": null,
   "metadata": {},
   "outputs": [],
   "source": []
  },
  {
   "cell_type": "markdown",
   "metadata": {},
   "source": [
    "Exécuter cette fonction dans la cellule ci-dessous et observer ce que l'on a obtenu."
   ]
  },
  {
   "cell_type": "code",
   "execution_count": null,
   "metadata": {},
   "outputs": [],
   "source": [
    "Tracer_Courbe()"
   ]
  },
  {
   "cell_type": "markdown",
   "metadata": {},
   "source": [
    "2) Utilisation d’une boucle : l’instruction « while »\n",
    "\n",
    "Information :\n",
    "\n",
    ">`\n",
    "while (condition):\n",
    "    ligne d'instruction indentées c'est à dire avec une tabulation au début de la ligne à respecter\n",
    "    ...\n",
    ">`\n",
    "\n",
    "est une structure d'algorithme qui répète le bloc d'instruction tant que la condition est satisfaite et s'arrête dès qu'elle ne l'est plus.\n",
    "\n",
    "**Attention :**  bien à respecter l'indentation\n"
   ]
  },
  {
   "cell_type": "markdown",
   "metadata": {},
   "source": [
    "3) Application à notre tracé :\n",
    "\n",
    "On considère toujours la fonction définie sur $[-5;5]$ par $f(x)=x^2-3x+1$\n",
    "\n",
    "a) Ci-dessous la fonction **Tracer_Courbe()** permettant d'obtenir tous les points de la courbe $C_f$ dont les abscisses sont les nombres **entiers** de l’intervalle $[-5;5]$ \n",
    "```Python\n",
    "def Tracer_Courbe():\n",
    "    x = ...\n",
    "    while ... :\n",
    "        y = ...\n",
    "        print(y)\n",
    "        plot(x,y,'.',color='green')\n",
    "        x=x+1\n",
    "    grid()\n",
    "    show()\n",
    "```\n",
    "On demande de saisir cette nouvelle version et la compléter et  exécuter  la cellule\n"
   ]
  },
  {
   "cell_type": "code",
   "execution_count": null,
   "metadata": {},
   "outputs": [],
   "source": []
  },
  {
   "cell_type": "markdown",
   "metadata": {},
   "source": [
    "Exécuter cette fonction dans la cellule ci-dessous et observer ce que l'on a obtenu."
   ]
  },
  {
   "cell_type": "code",
   "execution_count": null,
   "metadata": {},
   "outputs": [],
   "source": [
    "Tracer_Courbe()"
   ]
  },
  {
   "cell_type": "markdown",
   "metadata": {},
   "source": [
    "### Généralisation :\n",
    "On souhaite représenter la fonction $f$ sur un intervalle **$[a;b]$** avec des points plus rapprochés.\n",
    "\n",
    "Voici la fonction `Tracer_Courbe(a, b, p)` qui prend comme paramètres les valeurs des bornes de **a** et **b** ainsi que l'écart **p** entre les abscisses des points. \n",
    "\n",
    "Compléter :"
   ]
  },
  {
   "cell_type": "code",
   "execution_count": null,
   "metadata": {},
   "outputs": [],
   "source": [
    "def Tracer_Courbe(a, b, p):\n",
    "    x = ...\n",
    "    while .... :\n",
    "        y = ...\n",
    "        plot(x,y,'.',color='green')\n",
    "        x=...\n",
    "    grid()\n",
    "    show()"
   ]
  },
  {
   "cell_type": "markdown",
   "metadata": {},
   "source": [
    "Tester cette fonction pour $a=-5$,   $b=5$   et   $p=0.01$."
   ]
  },
  {
   "cell_type": "code",
   "execution_count": null,
   "metadata": {},
   "outputs": [],
   "source": []
  }
 ],
 "metadata": {
  "kernelspec": {
   "display_name": "Python 3",
   "language": "python",
   "name": "python3"
  },
  "language_info": {
   "codemirror_mode": {
    "name": "ipython",
    "version": 3
   },
   "file_extension": ".py",
   "mimetype": "text/x-python",
   "name": "python",
   "nbconvert_exporter": "python",
   "pygments_lexer": "ipython3",
   "version": "3.7.9"
  }
 },
 "nbformat": 4,
 "nbformat_minor": 4
}
