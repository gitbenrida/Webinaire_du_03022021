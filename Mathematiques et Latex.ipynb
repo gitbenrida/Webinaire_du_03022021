{
 "cells": [
  {
   "cell_type": "markdown",
   "metadata": {},
   "source": [
    "# opérations classiques\n",
    "produit : ${a}\\times{b}$ : {a}\\times{b}\n",
    "\n",
    "quotient :\n",
    "- petite écriture $\\frac{a}{b}$ : \\frac{a}{b}\n",
    "- écriture normale : $\\displaystyle\\frac{a}{b}$ : \\displaystyle\\frac{a}{b}\n",
    "\n",
    "exposants : $x^n$ : x^n\n",
    "\n",
    "indices : $u_n$ : u_n\n",
    "\n",
    "racine carrée : $\\sqrt{{a}\\times{b}}$ : \\sqrt{{a}\\times{b}}\n",
    "\n",
    "parenthèses \n",
    "- petites : $(\\frac{a}{b}+\\frac{a}{b})\\times{e}$ : (\\frac{a}{b}+\\frac{a}{b})\\times{e}\n",
    "\n",
    "- adaptables : $\\displaystyle\\left({\\frac{a}{b}+\\frac{a}{b}}\\right)\\times\\frac{a}{d}$ : \\displaystyle\\left({\\frac{a}{b}+\\frac{a}{b}}\\right)\\times\\frac{a}{d}\n",
    "\n",
    "conjugué : $\\overline{a+ib}$ : \\overline{a+ib}\n",
    "\n",
    "Comparaison : \n",
    "- $\\leqslant$ : \\leqslant\n",
    "- $\\geqslant$ : \\geqslant\n",
    "- $\\approx$ : \\approx\n",
    "- $\\ne$ : \\ne\n",
    "\n",
    "lettres grecques : \n",
    "- $\\sigma$ : \\sigma\n",
    "- $\\Sigma$ : \\Sigma\n",
    "- $\\epsilon$ : \\epsilon\n",
    "- $\\varepsilon$ \\varepsilon pour certaines lettres"
   ]
  },
  {
   "cell_type": "markdown",
   "metadata": {},
   "source": [
    "# analyse\n",
    "\n",
    "dérivée : $f'$ : f'   ;   $f''$ : f''   ;    $f^{(n)}$ : f^{(n)}\n",
    "\n",
    "$D_f \\to \\mathbb{R}$ : D_f \\to \\mathbb{R}\n",
    "\n",
    "$x \\mapsto\\exp(x)$ : x \\mapsto \\exp(x)\n",
    "\n",
    "intégrale : \n",
    "- $\\int_a^b {f(x)\\,dx}=\\left[ F(b)-F(a) \\right]$ : \\int_a^b {f(x)\\,dx}=\\left[ F(b)-F(a) \\right]\n",
    "- $\\displaystyle \\int_a^b {f(t)\\,dt}=\\left[ F(b)-F(a) \\right]$ : \\displaystyle \\int_a^b {f(t)\\,dt}=\\left[ F(b)-F(a) \\right]\n",
    "- $\\int\\limits_a^b {f(x)\\,dx}$ : \\int\\limits_a^b {f(x)\\,dx}\n",
    "- $\\displaystyle \\int\\limits_a^b {f(x)\\,dx}$ : \\displaystyle \\int\\limits_a^b {f(x)\\,dx}\n",
    "\n",
    "sommes :\n",
    "- $\\sum_{i=1}^{n+1} {\\left(\\frac{a}{b}\\right)^i}$  : \\sum_{i=1}^{n+1} {\\left(\\frac{a}{b}\\right)^i}\n",
    "- $\\displaystyle \\sum_{i=1}^{n+1} {\\left(\\frac{a}{b}\\right)^i}$ : \\displaystyle \\sum_{i=1}^{n+1} {\\left(\\frac{a}{b}\\right)^i}\n",
    "- $\\sum\\limits_{i=1}^{n+1} {\\left(\\frac{a}{b}\\right)^i}$ : \\sum\\limits_{i=1}^{n+1} {\\left(\\frac{a}{b}\\right)^i}\n",
    "- $\\displaystyle \\sum\\limits_{i=1}^{n+1} {\\left(\\frac{a}{b}\\right)^i}$ : \\displaystyle \\sum\\limits_{i=1}^{n+1} {\\left(\\frac{a}{b}\\right)^i}\n",
    "\n",
    "\n",
    "limites :\n",
    "- $\\lim\\limits_{x \\to +\\infty} f(x)=0^+$ : \\lim\\limits_{x \\to +\\infty} f(x)=0^+\n",
    "- $\\lim\\limits_{+\\infty} {u_n}=l$ : \\lim\\limits_{+\\infty} {u_n}=l\n",
    "\n",
    "\n",
    "\n"
   ]
  },
  {
   "cell_type": "markdown",
   "metadata": {},
   "source": [
    "\n",
    "# Matrices\n",
    "$ \\begin{pmatrix} a&b\\\\ c&d \\end{pmatrix} $ \n",
    "\n",
    "$ \\begin{bmatrix} a&b\\\\ c&d \\end{bmatrix} $\n",
    "\n",
    "$ \\begin{vmatrix} a&b\\\\ c&d \\end{vmatrix} $ \n",
    "\n",
    "$ \\begin{matrix} a&b\\\\ c&d \\end{matrix} $ "
   ]
  },
  {
   "cell_type": "markdown",
   "metadata": {},
   "source": [
    "# ensembles - logique\n",
    "appartenance $a\\in\\mathbb{R}$ : a\\in\\mathbb{R}\n",
    "\n",
    "non appartenance $z \\notin \\mathbb{N}$ : $a\\in\\mathbb{R}$\n",
    "\n",
    "inclusion $\\mathbb{Z} \\subset \\mathbb{D}$ : \\mathbb{Z} \\subset \\mathbb{D}\n",
    "\n",
    "non inclusion $\\mathbb{C}  \\not\\subset \\mathbb{R}$ :\\mathbb{C}  \\not\\subset \\mathbb{R}\n",
    "\n",
    "infini : $\\infty$ : \\infty\n",
    "\n",
    "ensemble vide : $\\emptyset$ : \\emptyset\n",
    "\n",
    "implique : \n",
    "- $\\Rightarrow$ : \\Rightarrow\n",
    "- $\\Leftarrow$ : \\Leftarrow\n",
    "\n",
    "équivalence : $\\iff$ : \\iff\n",
    "\n",
    "intersection $ A \\cap B $ : A \\cap B\n",
    "\n",
    "union : $ A \\cup B $ : A \\cup B \n",
    "\n",
    "Quantificateurs : \n",
    "- $\\forall$ : \\forall\n",
    "- $\\exists$ : \\exists\n"
   ]
  },
  {
   "cell_type": "markdown",
   "metadata": {},
   "source": [
    "# géométrie\n",
    "\n",
    "angle $\\widehat{BAC}$ : \\widehat{BAC}\n",
    "\n",
    "parallèle $D \\parallel \\Delta$ : \\parallel \\Delta\n",
    "\n",
    "perpendiculaire $ D \\perp \\Delta$ : D \\perp \\Delta"
   ]
  },
  {
   "cell_type": "markdown",
   "metadata": {},
   "source": [
    "# vecteurs\n",
    "vecteur:  $\\vec{u}$ : \\vec{u}\n",
    "\n",
    "vecteur à deux lettres : $\\overrightarrow{AB}$ : \\overrightarrow{AB}\n",
    "\n",
    "norme :  $\\|\\vec{u}\\|$ : \\|\\vec{u}\\|\n",
    "\n",
    "produit scalaire : $\\vec{u} \\cdot \\vec{v}$\n",
    "\n",
    "coordonnées en colonne : $\\displaystyle\\binom{n}{p}$ : \\displaystyle\\binom{n}{p}"
   ]
  }
 ],
 "metadata": {
  "kernelspec": {
   "display_name": "Python 3",
   "language": "python",
   "name": "python3"
  },
  "language_info": {
   "codemirror_mode": {
    "name": "ipython",
    "version": 3
   },
   "file_extension": ".py",
   "mimetype": "text/x-python",
   "name": "python",
   "nbconvert_exporter": "python",
   "pygments_lexer": "ipython3",
   "version": "3.7.9"
  }
 },
 "nbformat": 4,
 "nbformat_minor": 2
}
