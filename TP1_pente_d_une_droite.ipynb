{
 "cells": [
  {
   "cell_type": "markdown",
   "id": "mexican-vacation",
   "metadata": {},
   "source": [
    "# TP - Pentes et fonctions affines avec Python"
   ]
  },
  {
   "cell_type": "markdown",
   "id": "independent-example",
   "metadata": {},
   "source": [
    "#### **Objectif mathématique :** Pouvoir déterminer la pente et l’expression d’une fonction affine\n",
    "à partir de la donnée de deux points de la droite représentant cette fonction\n",
    "\n",
    "**Objectif algorithmique :** utilisation de la notion de fonction et de l'instruction conditionnelle en `Python`"
   ]
  },
  {
   "cell_type": "markdown",
   "id": "japanese-notice",
   "metadata": {},
   "source": [
    "### A. Pente.\n",
    "#### 1) Rappel\n",
    "> Soit $A(x_A;y_A)$ et $B(x_B;y_B)$, la pente de la droite $(AB)$ représentant une fonction affine $f(x)=mx+p$ est le nombre $m=\\frac{y_B-y_A}{x_B-x_A}$ avec $x_A\\ne x_B$\n",
    "Écrire dans la cellule ci-dessous la pente de la droite $(AB)$ avec $A(2;-1)$  et $B(4;0)$"
   ]
  },
  {
   "cell_type": "markdown",
   "id": "paperback-capacity",
   "metadata": {},
   "source": [
    "### 2) Fonction en Python\n",
    "Une fonction est une suite d'instructions portant un nom, effectuant une certaine tâche, etutilisantzéro, un ou plusieurs arguments ou paramètres. Elle permet de découper le problème étudié en sous-problèmes et d'éviter ainsi la répétition d'instructions. Une fois qu'elle est définie, on peut l'utiliser autant de fois que nécessaire tout au long de l'exécution de l'algorithme.\n",
    "\n",
    "##### Syntaxe en Python:\n",
    "```python\n",
    "def nom_de_la_fonction(argument1, argument2, ...):\n",
    "    instructions\n",
    "    return(resultat1, resultat2, ...)\n",
    "```\n",
    "- le mot **`def`** est obligatoire c'est un mot du language.\n",
    "- les **`:`** à la fin de la ligne de éfinition de la fonction sont obligatoires, ils marquent le début des instructions à exécuter dans la fonction.\n",
    "- la **tabulation** (les espaces au début de chaque ligne de la fonction) est aussi obligatoire, elle est définie automatiquement par l'éditeur et doit être respectée.\n",
    "- L'instruction **`return`** interrompt le programme dès qu'elle s'est exécutée et permet de renvoyer une ou plusieurs valeurs de tous types \n",
    "\n",
    "a. Compléter la fonction ci-dessous pour qu'elle retourne la pente de la droite $(AB)$ avec $A(x_A;y_A)$  et $B(x_B;y_B)$ puis cliquer sur le bouton **`Exécuter`** ou **`Run`** dans la barre des boutons"
   ]
  },
  {
   "cell_type": "code",
   "execution_count": null,
   "id": "after-relationship",
   "metadata": {},
   "outputs": [],
   "source": [
    "def pente(xA, yA, xB, yB):\n",
    "    m= ....\n",
    "    return m"
   ]
  },
  {
   "cell_type": "markdown",
   "id": "devoted-thomson",
   "metadata": {},
   "source": [
    "Taper dans la cellule ci-dessous `pente(2,-1,4,0)` puis cliquer à nouveau sur le bouton **`Exécuter`** ou **`Run`** dans la barre des boutons. Comparer le résultat obtenu avec celui trouvé dans la question 1)"
   ]
  },
  {
   "cell_type": "code",
   "execution_count": null,
   "id": "anticipated-integration",
   "metadata": {},
   "outputs": [],
   "source": []
  },
  {
   "cell_type": "markdown",
   "id": "defined-fault",
   "metadata": {},
   "source": [
    "Dans la cellule ci-dessous, tester encore une fois la fonction `pente()` avec $A(2;-1)$  et $B(2;0)$"
   ]
  },
  {
   "cell_type": "code",
   "execution_count": null,
   "id": "hollow-network",
   "metadata": {},
   "outputs": [],
   "source": []
  },
  {
   "cell_type": "markdown",
   "id": "weekly-tracy",
   "metadata": {},
   "source": [
    "Que se passe-t-il ? Donner une explication."
   ]
  },
  {
   "cell_type": "raw",
   "id": "angry-blocking",
   "metadata": {},
   "source": []
  },
  {
   "cell_type": "markdown",
   "id": "educated-period",
   "metadata": {},
   "source": [
    "### 3) L'instruction conditionnelle en Python\n",
    "La fonction pente() définie précédemment génère une erreur lorsque les points A et B ont les mêmes abscisses.\n",
    "\n",
    "l'instruction conditionnelle permet de choisir ce que l'on veut exécuter en fonction d'une condition.\n",
    "La syntaxe est :\n",
    "```Python\n",
    "if condition :\n",
    "    instruction à exécuter si la condition est vraie\n",
    "else:\n",
    "    instruction à exécuter si la condition est fausse\n",
    "    \n",
    "```\n",
    "- Les mots **`if`** et **`else`** sont des mots du langage ce qui sognifie **si** et **alors**\n",
    "- la tabulation a le même sens que celle présentée dans la définition d'une fonction\n",
    "- **condition** est une expression de test, comme :\n",
    ">- `a < b` pour tester si `a` est plus que `b`\n",
    ">- `a <= b` pour tester si `a` est plus ou égale à `b`\n",
    ">- `a == b` pour tester si `a` est égale à `b`\n",
    ">- `a != b` pour tester si `a` est différent de `b`\n",
    "Dans la cellule ci-dessous, compléter la nouvelle fonction pente()"
   ]
  },
  {
   "cell_type": "code",
   "execution_count": null,
   "id": "vertical-turkish",
   "metadata": {},
   "outputs": [],
   "source": [
    "def pente(xA, yA, xB, yB):\n",
    "    if ... == ... :\n",
    "       return(\"impossible\")\n",
    "    else:\n",
    "         m=...\n",
    "    return m"
   ]
  },
  {
   "cell_type": "markdown",
   "id": "upper-celtic",
   "metadata": {},
   "source": [
    "Tester cette nouvelle version avec les points $A(2;-1)$  et $B(2;0)$ et aussi avec les points $A(1;3)$  et $B(4;-3)$"
   ]
  },
  {
   "cell_type": "code",
   "execution_count": null,
   "id": "special-springfield",
   "metadata": {},
   "outputs": [],
   "source": []
  },
  {
   "cell_type": "markdown",
   "id": "limiting-yemen",
   "metadata": {},
   "source": [
    "### 4) Pour allet plus loin\n",
    "Lorsqu'on connait le nombre **m** et les coordonnées d'un point $A(x_A;y_A)$ de la droite on peut déterminer le nombre **p** appelé ordonnée à l'origine avec $p=y_A-mx_A$.\n",
    "\n",
    "Compléter et tester la fonction **`ordonnee_origine(m,xA,xB)`**  qui retourne comme son nom l'indique, la valeur du nombre p."
   ]
  },
  {
   "cell_type": "code",
   "execution_count": null,
   "id": "regulated-investor",
   "metadata": {},
   "outputs": [],
   "source": [
    "def ordonnee_origine(m, xA, yA):\n",
    "    p = ....\n",
    "    return ...."
   ]
  },
  {
   "cell_type": "markdown",
   "id": "latter-sarah",
   "metadata": {},
   "source": [
    "Compléter et tester la fonction suivante nommée **fonction_affine** prend en paramètres les coordonnées de 2 points et retourne si c'est possible les nombres **m** et **p**."
   ]
  },
  {
   "cell_type": "code",
   "execution_count": null,
   "id": "reliable-damages",
   "metadata": {},
   "outputs": [],
   "source": [
    "def fonction_affine(xA, yA, xB, yB):\n",
    "    m = ......\n",
    "    if m == .... :\n",
    "        return(\"il n'y a pas de fonction affine avec ces deux points\")\n",
    "    else:\n",
    "        p = ....\n",
    "        return (m,p)"
   ]
  }
 ],
 "metadata": {
  "kernelspec": {
   "display_name": "Python 3",
   "language": "python",
   "name": "python3"
  },
  "language_info": {
   "codemirror_mode": {
    "name": "ipython",
    "version": 3
   },
   "file_extension": ".py",
   "mimetype": "text/x-python",
   "name": "python",
   "nbconvert_exporter": "python",
   "pygments_lexer": "ipython3",
   "version": "3.7.9"
  }
 },
 "nbformat": 4,
 "nbformat_minor": 5
}
